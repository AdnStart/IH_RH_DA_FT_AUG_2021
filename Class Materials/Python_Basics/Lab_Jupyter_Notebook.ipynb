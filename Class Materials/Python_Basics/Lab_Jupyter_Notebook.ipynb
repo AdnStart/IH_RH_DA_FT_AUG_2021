{
 "cells": [
  {
   "cell_type": "markdown",
   "id": "642ee4e4",
   "metadata": {},
   "source": [
    "## Holiday Preferences"
   ]
  },
  {
   "cell_type": "markdown",
   "id": "58f2d874",
   "metadata": {},
   "source": [
    "## Table Of Contents:\n",
    "* [Things to do](#first-point)\n",
    "* [Video Intro](#second-point)"
   ]
  },
  {
   "cell_type": "markdown",
   "id": "f306426a",
   "metadata": {},
   "source": [
    "### Things like to do in the holiday destination <a class=\"anchor\" id=\"first-point\"></a>\n",
    "\n",
    "- Swimming\n",
    "- Partying\n",
    "- Sun Pathing"
   ]
  },
  {
   "cell_type": "markdown",
   "id": "27721cd9",
   "metadata": {},
   "source": [
    "### Video Intro <a class=\"anchor\" id=\"second-point\"></a>"
   ]
  },
  {
   "cell_type": "code",
   "execution_count": 17,
   "id": "9fe114b9",
   "metadata": {},
   "outputs": [
    {
     "data": {
      "text/html": [
       "<iframe width=\"560\" height=\"315\" src=\"https://www.youtube.com/embed/R4BVe-5VEZ8\" title=\"YouTube video player\" frameborder=\"0\" allow=\"accelerometer; autoplay; clipboard-write; encrypted-media; gyroscope; picture-in-picture\" allowfullscreen></iframe>"
      ],
      "text/plain": [
       "<IPython.core.display.HTML object>"
      ]
     },
     "execution_count": 17,
     "metadata": {},
     "output_type": "execute_result"
    }
   ],
   "source": [
    "from IPython.display import HTML\n",
    "\n",
    "# Youtube\n",
    "HTML('<iframe width=\"560\" height=\"315\" src=\"https://www.youtube.com/embed/R4BVe-5VEZ8\" title=\"YouTube video player\" frameborder=\"0\" allow=\"accelerometer; autoplay; clipboard-write; encrypted-media; gyroscope; picture-in-picture\" allowfullscreen></iframe>')"
   ]
  },
  {
   "cell_type": "code",
   "execution_count": null,
   "id": "103b538b",
   "metadata": {},
   "outputs": [],
   "source": []
  }
 ],
 "metadata": {
  "kernelspec": {
   "display_name": "Python 3",
   "language": "python",
   "name": "python3"
  },
  "language_info": {
   "codemirror_mode": {
    "name": "ipython",
    "version": 3
   },
   "file_extension": ".py",
   "mimetype": "text/x-python",
   "name": "python",
   "nbconvert_exporter": "python",
   "pygments_lexer": "ipython3",
   "version": "3.8.8"
  }
 },
 "nbformat": 4,
 "nbformat_minor": 5
}
